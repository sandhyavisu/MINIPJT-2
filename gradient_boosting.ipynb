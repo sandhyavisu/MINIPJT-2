{
  "nbformat": 4,
  "nbformat_minor": 0,
  "metadata": {
    "colab": {
      "name": "gradient boosting.ipynb",
      "provenance": [],
      "authorship_tag": "ABX9TyOlcLQQ3jCR17O7+fuDMprQ",
      "include_colab_link": true
    },
    "kernelspec": {
      "name": "python3",
      "display_name": "Python 3"
    },
    "language_info": {
      "name": "python"
    }
  },
  "cells": [
    {
      "cell_type": "markdown",
      "metadata": {
        "id": "view-in-github",
        "colab_type": "text"
      },
      "source": [
        "<a href=\"https://colab.research.google.com/github/sandhyavisu/MINIPJT-2/blob/main/gradient_boosting.ipynb\" target=\"_parent\"><img src=\"https://colab.research.google.com/assets/colab-badge.svg\" alt=\"Open In Colab\"/></a>"
      ]
    },
    {
      "cell_type": "markdown",
      "metadata": {
        "id": "Iz6cf6phY0YY"
      },
      "source": [
        "\n",
        "STEP:1 **Gather** **Data**"
      ]
    },
    {
      "cell_type": "code",
      "metadata": {
        "id": "T5pGz9eS0Xiy",
        "colab": {
          "base_uri": "https://localhost:8080/"
        },
        "outputId": "5899166e-5533-4a4d-9438-f7bdcbad863a"
      },
      "source": [
        "from google.colab import drive\n",
        "drive.mount('/content/drive',force_remount=True)\n"
      ],
      "execution_count": 1,
      "outputs": [
        {
          "output_type": "stream",
          "text": [
            "Mounted at /content/drive\n"
          ],
          "name": "stdout"
        }
      ]
    },
    {
      "cell_type": "markdown",
      "metadata": {
        "id": "e0A7R-bvZHpC"
      },
      "source": [
        "\n",
        "STEP:2 **Preprocess data**"
      ]
    },
    {
      "cell_type": "code",
      "metadata": {
        "id": "GHe4DzDs35C0"
      },
      "source": [
        "import os\n",
        "import pandas as pd\n",
        "import numpy as np\n",
        "import matplotlib.pyplot as plt\n",
        "from skimage.io import imread\n",
        "from skimage.transform import resize"
      ],
      "execution_count": 2,
      "outputs": []
    },
    {
      "cell_type": "code",
      "metadata": {
        "id": "HExEpMY234-8"
      },
      "source": [
        "\n",
        "images=[]\n",
        "target = []\n",
        "flat_data = []\n",
        "\n",
        "DATADIR = '/content/drive/MyDrive/pjt'\n",
        "CATEGORIES = ['clock','lion'] # Name the folder with these categories\n",
        "\n",
        "for category in CATEGORIES:\n",
        "  class_num = CATEGORIES.index(category)\n",
        "  #print(class_num) #label encoding the values\n",
        "  path = os.path.join(DATADIR,category)\n",
        "  for img in os.listdir(path):\n",
        "    img_array = imread(os.path.join(path,img))\n",
        "    #plt.imshow(img_array)  \n",
        "    img_resized = resize(img_array,(150,150,3)) # Value gets converted 0-1 from 0-255\n",
        "    flat_data.append(img_resized.flatten())\n",
        "    images.append(img_resized)\n",
        "    target.append(class_num)\n",
        "\n",
        "\n",
        "flat_data=np.array(flat_data)\n",
        "target = np.array(target)\n",
        "images = np.array(images)\n"
      ],
      "execution_count": 3,
      "outputs": []
    },
    {
      "cell_type": "code",
      "metadata": {
        "colab": {
          "base_uri": "https://localhost:8080/"
        },
        "id": "nP_IgHM_345q",
        "outputId": "397f351e-7d29-41e5-f883-5f55b8769643"
      },
      "source": [
        "target"
      ],
      "execution_count": 4,
      "outputs": [
        {
          "output_type": "execute_result",
          "data": {
            "text/plain": [
              "array([0, 0, 0, 0, 0, 0, 0, 0, 0, 0, 0, 0, 0, 0, 0, 0, 0, 0, 0, 0, 0, 0,\n",
              "       0, 0, 0, 0, 0, 0, 0, 0, 1, 1, 1, 1, 1, 1, 1, 1, 1, 1, 1, 1, 1, 1,\n",
              "       1, 1, 1, 1, 1, 1, 1, 1, 1, 1, 1, 1, 1, 1, 1, 1])"
            ]
          },
          "metadata": {
            "tags": []
          },
          "execution_count": 4
        }
      ]
    },
    {
      "cell_type": "code",
      "metadata": {
        "colab": {
          "base_uri": "https://localhost:8080/"
        },
        "id": "z2X1huXL344U",
        "outputId": "5b2e3928-9eeb-4fa8-83ca-574211b62aa2"
      },
      "source": [
        "flat_data"
      ],
      "execution_count": 5,
      "outputs": [
        {
          "output_type": "execute_result",
          "data": {
            "text/plain": [
              "array([[0.83309804, 0.83309804, 0.83309804, ..., 0.82430536, 0.82430536,\n",
              "        0.82430536],\n",
              "       [0.99607843, 0.99607843, 0.99607843, ..., 0.99607843, 0.99607843,\n",
              "        0.99607843],\n",
              "       [0.69558954, 0.72696209, 0.73480523, ..., 0.57955556, 0.58739869,\n",
              "        0.58431373],\n",
              "       ...,\n",
              "       [0.22239216, 0.23831373, 0.23403922, ..., 0.55168627, 0.87172549,\n",
              "        0.42415686],\n",
              "       [0.12318083, 0.19375599, 0.15323747, ..., 0.79435294, 0.77082353,\n",
              "        0.77866667],\n",
              "       [0.34683486, 0.44077124, 0.13725316, ..., 0.41227451, 0.33776471,\n",
              "        0.27109804]])"
            ]
          },
          "metadata": {
            "tags": []
          },
          "execution_count": 5
        }
      ]
    },
    {
      "cell_type": "code",
      "metadata": {
        "colab": {
          "base_uri": "https://localhost:8080/",
          "height": 282
        },
        "id": "P8MlI2by341W",
        "outputId": "6e42c5be-f77c-411e-ed2a-4516f19336b2"
      },
      "source": [
        "unique,count= np.unique(target,return_counts=True)\n",
        "plt.bar(CATEGORIES,count)"
      ],
      "execution_count": 6,
      "outputs": [
        {
          "output_type": "execute_result",
          "data": {
            "text/plain": [
              "<BarContainer object of 2 artists>"
            ]
          },
          "metadata": {
            "tags": []
          },
          "execution_count": 6
        },
        {
          "output_type": "display_data",
          "data": {
            "image/png": "[encoded data removed]",
            "text/plain": [
              "<Figure size 432x288 with 1 Axes>"
            ]
          },
          "metadata": {
            "tags": [],
            "needs_background": "light"
          }
        }
      ]
    },
    {
      "cell_type": "markdown",
      "metadata": {
        "id": "gt-hCeixaLMq"
      },
      "source": [
        "STEP:3 **Apply any classification Algorithm with best parameters using GridSearch CV**"
      ]
    },
    {
      "cell_type": "markdown",
      "metadata": {
        "id": "C2Z5ISZN4XZD"
      },
      "source": [
        " Splitting of data into train and test\n"
      ]
    },
    {
      "cell_type": "code",
      "metadata": {
        "id": "MMR282ee34z6"
      },
      "source": [
        "from sklearn.model_selection import train_test_split\n",
        "x_train,x_test,y_train,y_test = train_test_split(flat_data,target,test_size=0.3,random_state=10)"
      ],
      "execution_count": 7,
      "outputs": []
    },
    {
      "cell_type": "code",
      "metadata": {
        "id": "rVtgrrE6YfIN",
        "colab": {
          "base_uri": "https://localhost:8080/"
        },
        "outputId": "12b11cea-e7b0-4871-8171-2ec3cbf32930"
      },
      "source": [
        "print(y_train.shape)\n",
        "print(y_test.shape)"
      ],
      "execution_count": 8,
      "outputs": [
        {
          "output_type": "stream",
          "text": [
            "(42,)\n",
            "(18,)\n"
          ],
          "name": "stdout"
        }
      ]
    },
    {
      "cell_type": "markdown",
      "metadata": {
        "id": "ITe61gyKaV51"
      },
      "source": [
        "HYPER PARAMETER tuning of gradient boosting classifier using gridsearchcv"
      ]
    },
    {
      "cell_type": "code",
      "metadata": {
        "colab": {
          "base_uri": "https://localhost:8080/"
        },
        "id": "LQBYndgX34w8",
        "outputId": "ebeb1d08-b0f0-4355-ba05-289fc8cde62e"
      },
      "source": [
        "from sklearn.ensemble import GradientBoostingClassifier\n",
        "from sklearn.model_selection import GridSearchCV\n",
        "model = GradientBoostingClassifier()\n",
        "param = {\n",
        "    'max_features':[1,2,3,4,5,6],\n",
        "    'max_depth': [1,2,3,4,5,6],\n",
        "    'n_estimators': [20,40,50,70,100],\n",
        "    'learning_rate': [0.001, 0.01,0.1,0.25,0.5,0.4]\n",
        "}\n",
        "\n",
        "grid = GridSearchCV(model,param,cv=5,n_jobs=-1)\n",
        "grid.fit(x_train,y_train)\n",
        "grid.best_params_\n"
      ],
      "execution_count": 9,
      "outputs": [
        {
          "output_type": "execute_result",
          "data": {
            "text/plain": [
              "{'learning_rate': 0.5, 'max_depth': 2, 'max_features': 5, 'n_estimators': 20}"
            ]
          },
          "metadata": {
            "tags": []
          },
          "execution_count": 9
        }
      ]
    },
    {
      "cell_type": "markdown",
      "metadata": {
        "id": "CLvos_njbG_l"
      },
      "source": [
        "Apply gradient boosting  Classifier-\n",
        "Fit the model"
      ]
    },
    {
      "cell_type": "code",
      "metadata": {
        "colab": {
          "base_uri": "https://localhost:8080/"
        },
        "id": "YJGV9r8j4lnX",
        "outputId": "5085e879-8e0b-4212-fc73-1318450ec0dc"
      },
      "source": [
        "from sklearn.ensemble import GradientBoostingClassifier\n",
        "\n",
        "model = GradientBoostingClassifier(learning_rate =0.5, max_depth= 5, max_features= 5, n_estimators= 20)\n",
        "\n",
        "model.fit(x_train,y_train)"
      ],
      "execution_count": 10,
      "outputs": [
        {
          "output_type": "execute_result",
          "data": {
            "text/plain": [
              "GradientBoostingClassifier(ccp_alpha=0.0, criterion='friedman_mse', init=None,\n",
              "                           learning_rate=0.5, loss='deviance', max_depth=5,\n",
              "                           max_features=5, max_leaf_nodes=None,\n",
              "                           min_impurity_decrease=0.0, min_impurity_split=None,\n",
              "                           min_samples_leaf=1, min_samples_split=2,\n",
              "                           min_weight_fraction_leaf=0.0, n_estimators=20,\n",
              "                           n_iter_no_change=None, presort='deprecated',\n",
              "                           random_state=None, subsample=1.0, tol=0.0001,\n",
              "                           validation_fraction=0.1, verbose=0,\n",
              "                           warm_start=False)"
            ]
          },
          "metadata": {
            "tags": []
          },
          "execution_count": 10
        }
      ]
    },
    {
      "cell_type": "markdown",
      "metadata": {
        "id": "5p37vyeqbS4j"
      },
      "source": [
        "Predict the model"
      ]
    },
    {
      "cell_type": "code",
      "metadata": {
        "id": "RI6KeTdi4lkh"
      },
      "source": [
        "y_pred = model.predict(x_test)"
      ],
      "execution_count": 11,
      "outputs": []
    },
    {
      "cell_type": "markdown",
      "metadata": {
        "id": "PPOATcZzbbnP"
      },
      "source": [
        "STEP:4 Evaluate the model using Confusion Matrix and classification report"
      ]
    },
    {
      "cell_type": "code",
      "metadata": {
        "colab": {
          "base_uri": "https://localhost:8080/"
        },
        "id": "cZ2zkjnP4lgw",
        "outputId": "88b1fdc1-f087-40b6-ea26-d17287ae79b7"
      },
      "source": [
        "from sklearn.metrics import accuracy_score,confusion_matrix,classification_report\n",
        "accuracy_score(y_pred,y_test)"
      ],
      "execution_count": 12,
      "outputs": [
        {
          "output_type": "execute_result",
          "data": {
            "text/plain": [
              "0.8888888888888888"
            ]
          },
          "metadata": {
            "tags": []
          },
          "execution_count": 12
        }
      ]
    },
    {
      "cell_type": "code",
      "metadata": {
        "colab": {
          "base_uri": "https://localhost:8080/"
        },
        "id": "rdXqixnm4leY",
        "outputId": "b48e349d-5265-4aac-f248-a59fb1b00cd9"
      },
      "source": [
        "confusion_matrix(y_pred,y_test)"
      ],
      "execution_count": 13,
      "outputs": [
        {
          "output_type": "execute_result",
          "data": {
            "text/plain": [
              "array([[8, 0],\n",
              "       [2, 8]])"
            ]
          },
          "metadata": {
            "tags": []
          },
          "execution_count": 13
        }
      ]
    },
    {
      "cell_type": "code",
      "metadata": {
        "colab": {
          "base_uri": "https://localhost:8080/"
        },
        "id": "B58oBzo64lR_",
        "outputId": "5138bc44-32d4-4564-c59f-438c4a45d9eb"
      },
      "source": [
        "print(classification_report(y_pred,y_test))"
      ],
      "execution_count": 14,
      "outputs": [
        {
          "output_type": "stream",
          "text": [
            "              precision    recall  f1-score   support\n",
            "\n",
            "           0       0.80      1.00      0.89         8\n",
            "           1       1.00      0.80      0.89        10\n",
            "\n",
            "    accuracy                           0.89        18\n",
            "   macro avg       0.90      0.90      0.89        18\n",
            "weighted avg       0.91      0.89      0.89        18\n",
            "\n"
          ],
          "name": "stdout"
        }
      ]
    },
    {
      "cell_type": "code",
      "metadata": {
        "id": "G_ONu-33Dlp_"
      },
      "source": [
        "# For saving the model in ML, use Pickle, Joblib\n",
        "import pickle\n",
        "pickle.dump(model,open('image_model.p','wb'))\n"
      ],
      "execution_count": 15,
      "outputs": []
    },
    {
      "cell_type": "code",
      "metadata": {
        "id": "peEvo00RDlng"
      },
      "source": [
        "model=pickle.load(open('image_model.p','rb'))"
      ],
      "execution_count": 16,
      "outputs": []
    },
    {
      "cell_type": "code",
      "metadata": {
        "colab": {
          "base_uri": "https://localhost:8080/",
          "height": 340
        },
        "id": "4PlAqkrxDllV",
        "outputId": "1af9b4de-e974-4c7b-ea5f-947fa9f21d41"
      },
      "source": [
        "#testing a brand new image\n",
        "flat_data = []\n",
        "url = input('enter ur url')\n",
        "\n",
        "img = imread(url)\n",
        "\n",
        "img_resized = resize(img,(150,150,3))\n",
        "flat_data.append(img_resized.flatten())\n",
        "flat_data=np.array(flat_data)\n",
        "print(img.shape)\n",
        "plt.imshow(img_resized)\n",
        "y_out = model.predict(flat_data)\n",
        "y_out = CATEGORIES[y_out[0]]\n",
        "print(f'predicted output:{y_out}')"
      ],
      "execution_count": 19,
      "outputs": [
        {
          "output_type": "stream",
          "text": [
            "enter ur urlhttps://ii1.pepperfry.com/media/catalog/product/r/a/568x625/random-multicolour-mdf-wood-15-x-2-x-15-inch-ocean-wall-clock-random-multicolour-mdf-wood-15-x-2-x-1-cfr6zn.jpg\n",
            "(625, 568, 3)\n",
            "predicted output:clock\n"
          ],
          "name": "stdout"
        },
        {
          "output_type": "display_data",
          "data": {
            "image/png": "[encoded data removed]",
            "text/plain": [
              "<Figure size 432x288 with 1 Axes>"
            ]
          },
          "metadata": {
            "tags": [],
            "needs_background": "light"
          }
        }
      ]
    },
    {
      "cell_type": "code",
      "metadata": {
        "colab": {
          "base_uri": "https://localhost:8080/",
          "height": 836
        },
        "id": "jaQBACVCDlhw",
        "outputId": "296a91a3-d255-4d5d-a4fd-67c351c0a685"
      },
      "source": [
        "!pip install ipykernel==4.1.1\n",
        "!pip install streamlit --quiet\n",
        "!pip install pyngrok==4.1.1 --quiet\n",
        "from pyngrok import ngrok"
      ],
      "execution_count": 20,
      "outputs": [
        {
          "output_type": "stream",
          "text": [
            "Collecting ipykernel==4.1.1\n",
            "\u001b[?25l  Downloading https://files.pythonhosted.org/packages/a6/f1/58a60bacb0e675d9e97a9a6cb1187979cb1b71fb45f0bd3531ef8a55b0d1/ipykernel-4.1.1-py2.py3-none-any.whl (90kB)\n",
            "\r\u001b[K     |███▋                            | 10kB 15.9MB/s eta 0:00:01\r\u001b[K     |███████▏                        | 20kB 10.6MB/s eta 0:00:01\r\u001b[K     |██████████▉                     | 30kB 9.1MB/s eta 0:00:01\r\u001b[K     |██████████████▍                 | 40kB 7.6MB/s eta 0:00:01\r\u001b[K     |██████████████████              | 51kB 4.2MB/s eta 0:00:01\r\u001b[K     |█████████████████████▋          | 61kB 4.8MB/s eta 0:00:01\r\u001b[K     |█████████████████████████▎      | 71kB 4.8MB/s eta 0:00:01\r\u001b[K     |████████████████████████████▉   | 81kB 5.2MB/s eta 0:00:01\r\u001b[K     |████████████████████████████████| 92kB 3.5MB/s \n",
            "\u001b[?25hRequirement already satisfied: ipython>=4.0.0 in /usr/local/lib/python3.7/dist-packages (from ipykernel==4.1.1) (5.5.0)\n",
            "Requirement already satisfied: traitlets in /usr/local/lib/python3.7/dist-packages (from ipykernel==4.1.1) (5.0.5)\n",
            "Requirement already satisfied: jupyter-client in /usr/local/lib/python3.7/dist-packages (from ipykernel==4.1.1) (5.3.5)\n",
            "Requirement already satisfied: pygments in /usr/local/lib/python3.7/dist-packages (from ipython>=4.0.0->ipykernel==4.1.1) (2.6.1)\n",
            "Requirement already satisfied: prompt-toolkit<2.0.0,>=1.0.4 in /usr/local/lib/python3.7/dist-packages (from ipython>=4.0.0->ipykernel==4.1.1) (1.0.18)\n",
            "Requirement already satisfied: simplegeneric>0.8 in /usr/local/lib/python3.7/dist-packages (from ipython>=4.0.0->ipykernel==4.1.1) (0.8.1)\n",
            "Requirement already satisfied: decorator in /usr/local/lib/python3.7/dist-packages (from ipython>=4.0.0->ipykernel==4.1.1) (4.4.2)\n",
            "Requirement already satisfied: setuptools>=18.5 in /usr/local/lib/python3.7/dist-packages (from ipython>=4.0.0->ipykernel==4.1.1) (54.1.2)\n",
            "Requirement already satisfied: pickleshare in /usr/local/lib/python3.7/dist-packages (from ipython>=4.0.0->ipykernel==4.1.1) (0.7.5)\n",
            "Requirement already satisfied: pexpect; sys_platform != \"win32\" in /usr/local/lib/python3.7/dist-packages (from ipython>=4.0.0->ipykernel==4.1.1) (4.8.0)\n",
            "Requirement already satisfied: ipython-genutils in /usr/local/lib/python3.7/dist-packages (from traitlets->ipykernel==4.1.1) (0.2.0)\n",
            "Requirement already satisfied: jupyter-core>=4.6.0 in /usr/local/lib/python3.7/dist-packages (from jupyter-client->ipykernel==4.1.1) (4.7.1)\n",
            "Requirement already satisfied: python-dateutil>=2.1 in /usr/local/lib/python3.7/dist-packages (from jupyter-client->ipykernel==4.1.1) (2.8.1)\n",
            "Requirement already satisfied: pyzmq>=13 in /usr/local/lib/python3.7/dist-packages (from jupyter-client->ipykernel==4.1.1) (22.0.3)\n",
            "Requirement already satisfied: tornado>=4.1 in /usr/local/lib/python3.7/dist-packages (from jupyter-client->ipykernel==4.1.1) (5.1.1)\n",
            "Requirement already satisfied: six>=1.9.0 in /usr/local/lib/python3.7/dist-packages (from prompt-toolkit<2.0.0,>=1.0.4->ipython>=4.0.0->ipykernel==4.1.1) (1.15.0)\n",
            "Requirement already satisfied: wcwidth in /usr/local/lib/python3.7/dist-packages (from prompt-toolkit<2.0.0,>=1.0.4->ipython>=4.0.0->ipykernel==4.1.1) (0.2.5)\n",
            "Requirement already satisfied: ptyprocess>=0.5 in /usr/local/lib/python3.7/dist-packages (from pexpect; sys_platform != \"win32\"->ipython>=4.0.0->ipykernel==4.1.1) (0.7.0)\n",
            "\u001b[31mERROR: ipywidgets 7.6.3 has requirement ipykernel>=4.5.1, but you'll have ipykernel 4.1.1 which is incompatible.\u001b[0m\n",
            "\u001b[31mERROR: google-colab 1.0.0 has requirement ipykernel~=4.10, but you'll have ipykernel 4.1.1 which is incompatible.\u001b[0m\n",
            "Installing collected packages: ipykernel\n",
            "  Found existing installation: ipykernel 4.10.1\n",
            "    Uninstalling ipykernel-4.10.1:\n",
            "      Successfully uninstalled ipykernel-4.10.1\n",
            "Successfully installed ipykernel-4.1.1\n"
          ],
          "name": "stdout"
        },
        {
          "output_type": "display_data",
          "data": {
            "application/vnd.colab-display-data+json": {
              "pip_warning": {
                "packages": [
                  "ipykernel"
                ]
              }
            }
          },
          "metadata": {
            "tags": []
          }
        },
        {
          "output_type": "stream",
          "text": [
            "\u001b[K     |████████████████████████████████| 7.0MB 5.1MB/s \n",
            "\u001b[K     |████████████████████████████████| 163kB 51.2MB/s \n",
            "\u001b[K     |████████████████████████████████| 81kB 9.1MB/s \n",
            "\u001b[K     |████████████████████████████████| 4.6MB 57.8MB/s \n",
            "\u001b[K     |████████████████████████████████| 112kB 47.0MB/s \n",
            "\u001b[K     |████████████████████████████████| 71kB 7.9MB/s \n",
            "\u001b[K     |████████████████████████████████| 122kB 59.5MB/s \n",
            "\u001b[?25h  Building wheel for blinker (setup.py) ... \u001b[?25l\u001b[?25hdone\n",
            "\u001b[31mERROR: google-colab 1.0.0 has requirement ipykernel~=4.10, but you'll have ipykernel 5.5.0 which is incompatible.\u001b[0m\n",
            "  Building wheel for pyngrok (setup.py) ... \u001b[?25l\u001b[?25hdone\n"
          ],
          "name": "stdout"
        }
      ]
    },
    {
      "cell_type": "code",
      "metadata": {
        "colab": {
          "base_uri": "https://localhost:8080/"
        },
        "id": "gsgEUkji4lPI",
        "outputId": "bd22cbb5-6fb6-4fa0-d64e-18f033802f32"
      },
      "source": [
        "%%writefile app.py\n",
        "import streamlit as st\n",
        "import pandas as pd\n",
        "import numpy as np\n",
        "import matplotlib.pyplot as plt\n",
        "from skimage.io import imread\n",
        "from skimage.transform import resize\n",
        "import pickle\n",
        "from PIL import Image\n",
        "\n",
        "\n",
        "#st.set_option('deprecation.showfileUploaderEncoding',False)\n",
        "st.title('image classifier')\n",
        "st.text('upload image')\n",
        "\n",
        "\n",
        "\n",
        "model=pickle.load(open('image_model.p','rb'))\n",
        "\n",
        "\n",
        "\n",
        "uploaded_file=st.file_uploader(\"choose an image\",type=\"jpg\")\n",
        "\n",
        "\n",
        "if uploaded_file is not None:\n",
        "  img=Image.open(uploaded_file)\n",
        "  st.image(img,caption='uploaded image')\n",
        "\n",
        "  if st.button('predict'):\n",
        "    st.write('result...')\n",
        "    CATEGORIES = ['clock','lion']\n",
        "    flat_data=[]\n",
        "\n",
        "\n",
        "    img=np.array(img)\n",
        "    img_resized=resize(img,(150,150,3))\n",
        "    flat_data.append(img_resized.flatten())\n",
        "    flat_data=np.array(flat_data)\n",
        "    \n",
        "    \n",
        "    y_out = model.predict(flat_data)\n",
        "    y_out = CATEGORIES[y_out[0]]\n",
        "    st.title(f'predicted output:{y_out}')\n",
        "    q=model.predict_proba(flat_data)\n",
        "    for index,item in enumerate(CATEGORIES):\n",
        "      st.write(f'{item}:{q[0][index]*100}%')\n",
        "\n"
      ],
      "execution_count": 21,
      "outputs": [
        {
          "output_type": "stream",
          "text": [
            "Writing app.py\n"
          ],
          "name": "stdout"
        }
      ]
    },
    {
      "cell_type": "code",
      "metadata": {
        "colab": {
          "base_uri": "https://localhost:8080/",
          "height": 52
        },
        "id": "KI4wBxYIclkn",
        "outputId": "efb03add-2b53-4d78-c3c6-b02c79671b3c"
      },
      "source": [
        "!nohup streamlit run app.py &\n",
        "url=ngrok.connect(port='8501')\n",
        "url"
      ],
      "execution_count": 22,
      "outputs": [
        {
          "output_type": "stream",
          "text": [
            "nohup: appending output to 'nohup.out'\n"
          ],
          "name": "stdout"
        },
        {
          "output_type": "execute_result",
          "data": {
            "application/vnd.google.colaboratory.intrinsic+json": {
              "type": "string"
            },
            "text/plain": [
              "'http://cf28068081c1.ngrok.io'"
            ]
          },
          "metadata": {
            "tags": []
          },
          "execution_count": 22
        }
      ]
    },
    {
      "cell_type": "code",
      "metadata": {
        "id": "OhUUCzjBcqVx"
      },
      "source": [
        ""
      ],
      "execution_count": null,
      "outputs": []
    }
  ]
}